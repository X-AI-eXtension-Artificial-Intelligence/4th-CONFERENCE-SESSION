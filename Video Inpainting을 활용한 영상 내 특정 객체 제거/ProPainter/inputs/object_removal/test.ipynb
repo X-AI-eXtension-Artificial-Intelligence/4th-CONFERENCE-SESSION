{
 "cells": [
  {
   "cell_type": "code",
   "execution_count": 2,
   "metadata": {},
   "outputs": [],
   "source": [
    "import os"
   ]
  },
  {
   "cell_type": "code",
   "execution_count": 3,
   "metadata": {},
   "outputs": [],
   "source": [
    "path = './street_1_mask/'\n",
    "file_list = os.listdir(path)"
   ]
  },
  {
   "cell_type": "code",
   "execution_count": 4,
   "metadata": {},
   "outputs": [],
   "source": [
    "for old_name in file_list:\n",
    "    dummy = '00000'\n",
    "    new_name = list(old_name.split('_'))[1]\n",
    "    new_name = dummy[:-len(list(new_name.split('.'))[0])] + new_name\n",
    "    os.rename(os.path.join(path, old_name), os.path.join(path, new_name))"
   ]
  },
  {
   "cell_type": "code",
   "execution_count": null,
   "metadata": {},
   "outputs": [],
   "source": []
  }
 ],
 "metadata": {
  "kernelspec": {
   "display_name": "cotracker",
   "language": "python",
   "name": "python3"
  },
  "language_info": {
   "codemirror_mode": {
    "name": "ipython",
    "version": 3
   },
   "file_extension": ".py",
   "mimetype": "text/x-python",
   "name": "python",
   "nbconvert_exporter": "python",
   "pygments_lexer": "ipython3",
   "version": "3.8.18"
  }
 },
 "nbformat": 4,
 "nbformat_minor": 2
}
